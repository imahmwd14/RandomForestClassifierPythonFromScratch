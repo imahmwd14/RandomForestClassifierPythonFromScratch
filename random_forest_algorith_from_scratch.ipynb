{
 "metadata": {
  "language_info": {
   "codemirror_mode": {
    "name": "ipython",
    "version": 3
   },
   "file_extension": ".py",
   "mimetype": "text/x-python",
   "name": "python",
   "nbconvert_exporter": "python",
   "pygments_lexer": "ipython3",
   "version": "3.9.1-final"
  },
  "orig_nbformat": 2,
  "kernelspec": {
   "name": "pycharm-8c85072e",
   "language": "python",
   "display_name": "PyCharm (TheProject)"
  }
 },
 "nbformat": 4,
 "nbformat_minor": 2,
 "cells": [
  {
   "source": [
    "# The Import Statements"
   ],
   "cell_type": "markdown",
   "metadata": {}
  },
  {
   "cell_type": "code",
   "execution_count": 112,
   "metadata": {},
   "outputs": [],
   "source": [
    "from collections import Counter\n",
    "import random\n",
    "import pandas as pd\n",
    "import numpy as np\n",
    "import matplotlib.pyplot as plt\n",
    "import sklearn\n",
    "import seaborn as sns\n",
    "from sklearn.datasets import load_digits\n",
    "from sklearn.model_selection import train_test_split\n",
    "%matplotlib inline\n"
   ]
  },
  {
   "cell_type": "markdown",
   "source": [
    "# loading the dataset"
   ],
   "metadata": {
    "collapsed": false,
    "pycharm": {
     "name": "#%% md\n"
    }
   }
  },
  {
   "cell_type": "code",
   "execution_count": 113,
   "outputs": [],
   "source": [
    "digits = load_digits()\n"
   ],
   "metadata": {
    "collapsed": false,
    "pycharm": {
     "name": "#%%\n"
    }
   }
  },
  {
   "cell_type": "markdown",
   "source": [
    "#### for the sake of simplicity the targets will be at the last index of the rows"
   ],
   "metadata": {
    "collapsed": false,
    "pycharm": {
     "name": "#%% md\n"
    }
   }
  },
  {
   "cell_type": "code",
   "execution_count": 114,
   "outputs": [],
   "source": [
    "digits_and_targets = np.insert(digits.data, 64, values=digits.target, axis=1)"
   ],
   "metadata": {
    "collapsed": false,
    "pycharm": {
     "name": "#%%\n"
    }
   }
  },
  {
   "cell_type": "markdown",
   "source": [
    "## splitting the data to a training set and a test set"
   ],
   "metadata": {
    "collapsed": false
   }
  },
  {
   "cell_type": "code",
   "execution_count": 115,
   "outputs": [],
   "source": [
    "test, training = train_test_split(digits_and_targets, train_size=.20, random_state=42)\n"
   ],
   "metadata": {
    "collapsed": false,
    "pycharm": {
     "name": "#%%\n"
    }
   }
  },
  {
   "cell_type": "markdown",
   "source": [
    "## An image from the training set"
   ],
   "metadata": {
    "collapsed": false,
    "pycharm": {
     "name": "#%% md\n"
    }
   }
  },
  {
   "cell_type": "code",
   "execution_count": 116,
   "outputs": [
    {
     "data": {
      "text/plain": "<Figure size 432x288 with 1 Axes>",
      "image/png": "[encoded data removed]"
     },
     "metadata": {
      "needs_background": "light"
     },
     "output_type": "display_data"
    },
    {
     "name": "stdout",
     "output_type": "stream",
     "text": [
      "digit: 4.0\n"
     ]
    }
   ],
   "source": [
    "randint = random.randint(0,10)\n",
    "\n",
    "plt.gray()\n",
    "plt.imshow(np.array(test[randint, :64]).reshape((8, 8)))\n",
    "plt.show()\n",
    "print(\"digit:\", test[randint][-1])"
   ],
   "metadata": {
    "collapsed": false,
    "pycharm": {
     "name": "#%%\n"
    }
   }
  },
  {
   "cell_type": "code",
   "execution_count": 117,
   "outputs": [],
   "source": [
    "def should_split(data):\n",
    "    return len(np.unique(data[:,-1])) > 1"
   ],
   "metadata": {
    "collapsed": false,
    "pycharm": {
     "name": "#%%\n"
    }
   }
  },
  {
   "cell_type": "code",
   "execution_count": 118,
   "outputs": [],
   "source": [
    "class Node:\n",
    "    def __init__(self):\n",
    "        self.left = None\n",
    "        self.right = None\n",
    "        self.class_decision = None\n"
   ],
   "metadata": {
    "collapsed": false,
    "pycharm": {
     "name": "#%%\n"
    }
   }
  },
  {
   "cell_type": "code",
   "execution_count": 119,
   "outputs": [],
   "source": [
    "def decide_class(data_and_targets):\n",
    "    return data_and_targets[:,-1][0]\n",
    "\n",
    "def fit_tree(data_and_targets, node=Node(), feature_index=0):\n",
    "\n",
    "    if (len(data_and_targets) > 0 and feature_index == len(data_and_targets[0]) - 1) or not should_split(data_and_targets):\n",
    "        node.class_decision = decide_class(data_and_targets)\n",
    "    elif should_split(data_and_targets):\n",
    "        left_slice = data_and_targets[data_and_targets[:,feature_index]<8]\n",
    "        right_slice = data_and_targets[data_and_targets[:,feature_index]>=8]\n",
    "\n",
    "        feature_index+=1\n",
    "\n",
    "        if len(left_slice):\n",
    "            node.left = Node()\n",
    "            fit_tree(left_slice, node.left, feature_index)\n",
    "\n",
    "        if len(right_slice):\n",
    "            node.right = Node()\n",
    "            fit_tree(right_slice, node.right, feature_index)\n",
    "\n",
    "    return node"
   ],
   "metadata": {
    "collapsed": false,
    "pycharm": {
     "name": "#%%\n"
    }
   }
  },
  {
   "cell_type": "markdown",
   "source": [
    "# Planting the trees of the forest 😊\n"
   ],
   "metadata": {
    "collapsed": false,
    "pycharm": {
     "name": "#%% md\n"
    }
   }
  },
  {
   "cell_type": "code",
   "execution_count": 120,
   "outputs": [],
   "source": [
    "\n",
    "def create_the_forest(trees_number = 500, sample_size = 500):\n",
    "    the_forest = []\n",
    "\n",
    "    for _ in range(trees_number):\n",
    "        random_indices = np.random.choice(training.shape[0], size=sample_size, replace=False)\n",
    "        new_tree = fit_tree(training[random_indices])\n",
    "        the_forest.append(new_tree)\n",
    "\n",
    "    return the_forest"
   ],
   "metadata": {
    "collapsed": false,
    "pycharm": {
     "name": "#%%\n"
    }
   }
  },
  {
   "cell_type": "code",
   "execution_count": null,
   "outputs": [],
   "source": [
    "forest_with_small_samples = create_the_forest(trees_number=100, sample_size=500)\n",
    "\n",
    "forest_with_large_samples = create_the_forest(trees_number=100, sample_size=1000)\n"
   ],
   "metadata": {
    "collapsed": false,
    "pycharm": {
     "name": "#%%\n",
     "is_executing": true
    }
   }
  },
  {
   "cell_type": "code",
   "execution_count": 121,
   "outputs": [],
   "source": [
    "def predict_class(tree_root_node: Node, data, index=0):\n",
    "    if index == len(data) - 1:\n",
    "        return tree_root_node.class_decision\n",
    "\n",
    "    if data[index] < 8:\n",
    "        if tree_root_node.left is not None:\n",
    "            return predict_class(tree_root_node.left, data, index+1)\n",
    "\n",
    "    if data[index] >= 8:\n",
    "        if tree_root_node.right is not None:\n",
    "            return predict_class(tree_root_node.right, data, index+1)\n",
    "\n",
    "    return tree_root_node.class_decision\n",
    "\n",
    "def get_votes(forest, image):\n",
    "    votes = []\n",
    "    for tree in forest:\n",
    "        votes.append(predict_class(tree, image))\n",
    "\n",
    "    return votes\n",
    "\n",
    "def predict_number(forest, image):\n",
    "    votes = get_votes(forest,image)\n",
    "\n",
    "    most_common = Counter(votes).most_common(1)[0][0]\n",
    "\n",
    "    return most_common"
   ],
   "metadata": {
    "collapsed": false,
    "pycharm": {
     "name": "#%%\n"
    }
   }
  },
  {
   "cell_type": "code",
   "execution_count": 122,
   "outputs": [
    {
     "name": "stdout",
     "output_type": "stream",
     "text": [
      "0.4958217270194986\n"
     ]
    }
   ],
   "source": [
    "count = 0\n",
    "\n",
    "for image in test:\n",
    "    if predict_number(the_forest, image) == image[-1]:\n",
    "        count += 1\n",
    "\n",
    "print(count/test.shape[0])"
   ],
   "metadata": {
    "collapsed": false,
    "pycharm": {
     "name": "#%%\n"
    }
   }
  }
 ]
}