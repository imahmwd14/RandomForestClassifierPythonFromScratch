{
  "nbformat": 4,
  "nbformat_minor": 0,
  "metadata": {
    "colab": {
      "name": "Untitled5.ipynb",
      "provenance": [],
      "include_colab_link": true
    },
    "kernelspec": {
      "name": "python3",
      "display_name": "Python 3"
    }
  },
  "cells": [
    {
      "cell_type": "markdown",
      "metadata": {
        "id": "view-in-github",
        "colab_type": "text"
      },
      "source": [
        "<a href=\"https://colab.research.google.com/github/imahmwd14/RandomForestClassifierPythonFromScratch/blob/master/RandomForestClassifierTestUsingSklearnImplementation.ipynb\" target=\"_parent\"><img src=\"https://colab.research.google.com/assets/colab-badge.svg\" alt=\"Open In Colab\"/></a>"
      ]
    },
    {
      "cell_type": "code",
      "metadata": {
        "id": "ZwBqyTuO6xP5"
      },
      "source": [
        "import matplotlib.pyplot as plt\r\n",
        "\r\n",
        "# Import datasets, classifiers and performance metrics\r\n",
        "from sklearn import datasets, metrics\r\n",
        "from sklearn.ensemble import RandomForestClassifier\r\n",
        "from sklearn.model_selection import train_test_split"
      ],
      "execution_count": 2,
      "outputs": []
    },
    {
      "cell_type": "code",
      "metadata": {
        "colab": {
          "base_uri": "https://localhost:8080/",
          "height": 168
        },
        "id": "VusphxBK6yfQ",
        "outputId": "ace8b1b1-ef31-4e29-db69-ff3ce3ea2b6a"
      },
      "source": [
        "digits = datasets.load_digits()\r\n",
        "\r\n",
        "_, axes = plt.subplots(nrows=1, ncols=4, figsize=(10, 3))\r\n",
        "for ax, image, label in zip(axes, digits.images, digits.target):\r\n",
        "    ax.set_axis_off()\r\n",
        "    ax.imshow(image, cmap=plt.cm.gray_r, interpolation='nearest')\r\n",
        "    ax.set_title('Training: %i' % label)"
      ],
      "execution_count": 3,
      "outputs": [
        {
          "output_type": "display_data",
          "data": {
            "image/png": "[encoded data removed]",
            "text/plain": [
              "<Figure size 720x216 with 4 Axes>"
            ]
          },
          "metadata": {
            "tags": [],
            "needs_background": "light"
          }
        }
      ]
    },
    {
      "cell_type": "code",
      "metadata": {
        "id": "mPR73Lki6z3A"
      },
      "source": [
        "n_samples = len(digits.images)\r\n",
        "data = digits.images.reshape((n_samples, -1))\r\n",
        "\r\n",
        "# Create a classifier\r\n",
        "clf = RandomForestClassifier(max_depth=2, random_state=0)\r\n",
        "\r\n",
        "# Split data into 50% train and 50% test subsets\r\n",
        "X_train, X_test, y_train, y_test = train_test_split(\r\n",
        "    data, digits.target, test_size=0.5, shuffle=False)\r\n",
        "\r\n",
        "# Learn the digits on the train subset\r\n",
        "clf.fit(X_train, y_train)\r\n",
        "\r\n",
        "# Predict the value of the digit on the test subset\r\n",
        "predicted = clf.predict(X_test)"
      ],
      "execution_count": 4,
      "outputs": []
    },
    {
      "cell_type": "code",
      "metadata": {
        "colab": {
          "base_uri": "https://localhost:8080/",
          "height": 168
        },
        "id": "lZrQKHqT61NX",
        "outputId": "04d1b98d-4ed8-4ebc-d86e-b175de14c1cc"
      },
      "source": [
        "_, axes = plt.subplots(nrows=1, ncols=4, figsize=(10, 3))\r\n",
        "for ax, image, prediction in zip(axes, X_test, predicted):\r\n",
        "    ax.set_axis_off()\r\n",
        "    image = image.reshape(8, 8)\r\n",
        "    ax.imshow(image, cmap=plt.cm.gray_r, interpolation='nearest')\r\n",
        "    ax.set_title(f'Prediction: {prediction}')"
      ],
      "execution_count": 5,
      "outputs": [
        {
          "output_type": "display_data",
          "data": {
            "image/png": "[encoded data removed]",
            "text/plain": [
              "<Figure size 720x216 with 4 Axes>"
            ]
          },
          "metadata": {
            "tags": [],
            "needs_background": "light"
          }
        }
      ]
    },
    {
      "cell_type": "code",
      "metadata": {
        "colab": {
          "base_uri": "https://localhost:8080/"
        },
        "id": "ZeUT2QI-63VQ",
        "outputId": "b277c459-01a5-4bcc-d079-84ee854f6049"
      },
      "source": [
        "print(f\"Classification report for classifier {clf}:\\n\"\r\n",
        "      f\"{metrics.classification_report(y_test, predicted)}\\n\")"
      ],
      "execution_count": 6,
      "outputs": [
        {
          "output_type": "stream",
          "text": [
            "Classification report for classifier RandomForestClassifier(bootstrap=True, ccp_alpha=0.0, class_weight=None,\n",
            "                       criterion='gini', max_depth=2, max_features='auto',\n",
            "                       max_leaf_nodes=None, max_samples=None,\n",
            "                       min_impurity_decrease=0.0, min_impurity_split=None,\n",
            "                       min_samples_leaf=1, min_samples_split=2,\n",
            "                       min_weight_fraction_leaf=0.0, n_estimators=100,\n",
            "                       n_jobs=None, oob_score=False, random_state=0, verbose=0,\n",
            "                       warm_start=False):\n",
            "              precision    recall  f1-score   support\n",
            "\n",
            "           0       0.87      0.99      0.93        88\n",
            "           1       0.90      0.42      0.57        91\n",
            "           2       0.66      0.80      0.72        86\n",
            "           3       0.55      0.82      0.66        91\n",
            "           4       0.91      0.82      0.86        92\n",
            "           5       0.74      0.62      0.67        91\n",
            "           6       0.87      0.99      0.93        91\n",
            "           7       0.70      1.00      0.82        89\n",
            "           8       0.92      0.26      0.41        88\n",
            "           9       0.74      0.82      0.77        92\n",
            "\n",
            "    accuracy                           0.75       899\n",
            "   macro avg       0.79      0.75      0.73       899\n",
            "weighted avg       0.79      0.75      0.73       899\n",
            "\n",
            "\n"
          ],
          "name": "stdout"
        }
      ]
    },
    {
      "cell_type": "code",
      "metadata": {
        "colab": {
          "base_uri": "https://localhost:8080/",
          "height": 537
        },
        "id": "ypy77d5C642v",
        "outputId": "4fb54260-10f6-488d-f712-6e9e1fe2f160"
      },
      "source": [
        "disp = metrics.plot_confusion_matrix(clf, X_test, y_test)\r\n",
        "disp.figure_.suptitle(\"Confusion Matrix\")\r\n",
        "print(f\"Confusion matrix:\\n{disp.confusion_matrix}\")\r\n",
        "\r\n",
        "plt.show()"
      ],
      "execution_count": 7,
      "outputs": [
        {
          "output_type": "stream",
          "text": [
            "Confusion matrix:\n",
            "[[87  0  0  0  1  0  0  0  0  0]\n",
            " [ 0 38  6 13  4  8  0 11  2  9]\n",
            " [ 1  0 69 13  0  0  0  2  0  1]\n",
            " [ 1  0  7 75  0  0  1  6  0  1]\n",
            " [ 7  0  0  0 75  1  6  3  0  0]\n",
            " [ 1  0  0 14  1 56  6  1  0 12]\n",
            " [ 0  0  1  0  0  0 90  0  0  0]\n",
            " [ 0  0  0  0  0  0  0 89  0  0]\n",
            " [ 1  4 21 14  1  8  0 12 23  4]\n",
            " [ 2  0  1  7  0  3  0  4  0 75]]\n"
          ],
          "name": "stdout"
        },
        {
          "output_type": "display_data",
          "data": {
            "image/png": "[encoded data removed]",
            "text/plain": [
              "<Figure size 432x288 with 2 Axes>"
            ]
          },
          "metadata": {
            "tags": [],
            "needs_background": "light"
          }
        }
      ]
    },
    {
      "cell_type": "code",
      "metadata": {
        "id": "e26JtkTG6573"
      },
      "source": [
        ""
      ],
      "execution_count": 7,
      "outputs": []
    }
  ]
}